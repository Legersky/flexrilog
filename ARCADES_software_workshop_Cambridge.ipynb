{
 "cells": [
  {
   "cell_type": "markdown",
   "metadata": {},
   "source": [
    "# GraphRF - Rigidity and Flexibility of Graphs\n",
    "\n",
    "Jan Legerský\n",
    "\n",
    "2nd Software and Industrial Workshop in Cambridge\n",
    "\n",
    "[jan.legersky.cz](https://jan.legersky.cz/project/movablegraphs/)\n",
    "\n",
    "## Basic notions\n",
    "\n",
    "**Definition**\n",
    "\n",
    "Let $G=(V_G,E_G)$ be a graph with an edge labeling $\\lambda:E_G\\rightarrow \\mathbb{R}_+$.\n",
    "\n",
    "A realization $\\rho:V_G\\rightarrow\\mathbb{R}^2$ is called *compatible* with $\\lambda$ if\n",
    "$||\\rho(u)-\\rho(v)||=\\lambda(uv)$ for all $uv\\in E_G$.\n",
    "\n",
    "The labeling $\\lambda$ is called\n",
    "\n",
    "- *(proper) flexible* if the number of (injective) realizations of $G$ compatible with $\\lambda$ is infinite,\n",
    "- *rigid* if the number of realizations of $G$ compatible with $\\lambda$ is infinite,\n",
    "\n",
    "where the counting is up to direct Euclidean isometries.\n",
    "A graph is called *movable* iff it has a proper flexible labeling."
   ]
  },
  {
   "cell_type": "code",
   "execution_count": null,
   "metadata": {
    "collapsed": false
   },
   "outputs": [],
   "source": [
    "# example"
   ]
  },
  {
   "cell_type": "markdown",
   "metadata": {},
   "source": [
    "**Theorem** [Pollaczek-Geiringer, Laman]\n",
    "\n",
    "A graph is *generically rigid*, i.e., a generic realization defines a rigid labeling,\n",
    "if and only if the graph contains a *Laman* subgraph with the same set of vertices.\n",
    "\n",
    "A graph $G=(V_G,E_G)$ is called *Laman* if $|E_G| = 2|V_G|-3$, and $|E_H|\\leq 2|V_H|-3$ for all subgraphs $H$ of $G$."
   ]
  },
  {
   "cell_type": "code",
   "execution_count": null,
   "metadata": {
    "collapsed": true
   },
   "outputs": [],
   "source": [
    "# is_Laman"
   ]
  },
  {
   "cell_type": "markdown",
   "metadata": {},
   "source": [
    "## Rigid graphs - number of realizations\n",
    "\n",
    "Given a Laman graph $G$ and a rigid labeling $\\lambda$, how many compatible realizations are there?\n",
    "\n",
    "We fix an edge $\\bar{u}\\bar{v}$ to get a system of equations:\n",
    "\n",
    "$x_{\\bar{u}}=0, y_{\\bar{u}}=0, x_{\\bar{v}}=\\lambda_{\\bar{u}\\bar{v}}, y_{\\bar{v}}=0$,\n",
    "\n",
    "$(x_u-x_v)^2+(y_u-y_v)^2= \\lambda_{uv}^2$ for all $uv \\in E_G\\setminus\\{\\bar{u}\\bar{v}\\}$.\n",
    "\n",
    "- well-constrained\n",
    "- the number of complex solutions is the same for generic choices of $\\lambda$\n",
    "- combinatorial algorithm [Capco et al.] or solving using PHC"
   ]
  },
  {
   "cell_type": "code",
   "execution_count": null,
   "metadata": {
    "collapsed": true
   },
   "outputs": [],
   "source": [
    "# examples - number, real vs. complex, pictures"
   ]
  },
  {
   "cell_type": "markdown",
   "metadata": {},
   "source": [
    "## Flexible labelings\n",
    "\n",
    "**Definition**\n",
    "\n",
    "Let $G$ be a graph. A coloring of edges $\\delta\\colon  E_G\\rightarrow \\{\\text{blue, red}\\}$ \n",
    "is called a *NAC-coloring*, if it is surjective and for every cycle $C$ in $G$,\n",
    "either all edges of $C$ have the same color, or\n",
    "$C$ contains at least 2 edges in each color.\n",
    "\n",
    "**Theorem** [Grasegger, L., Schicho]\n",
    "\n",
    "A graph $G$ has a flexible labeling if and only if it has a NAC-coloring."
   ]
  },
  {
   "cell_type": "code",
   "execution_count": null,
   "metadata": {
    "collapsed": true
   },
   "outputs": [],
   "source": [
    "# examples of NAC-coloring"
   ]
  },
  {
   "cell_type": "markdown",
   "metadata": {},
   "source": [
    "## Construction of a motion from a NAC-coloring"
   ]
  },
  {
   "cell_type": "code",
   "execution_count": null,
   "metadata": {
    "collapsed": true
   },
   "outputs": [],
   "source": [
    "# grid construction, injective and non-injective\n",
    "# animations"
   ]
  },
  {
   "cell_type": "markdown",
   "metadata": {},
   "source": [
    "## Movable graphs\n",
    "\n",
    "Recall - we look for a **proper** flexible labeling, i.e., infinitely many **injective** realizations\n",
    "\n",
    "**Definition**\n",
    "$\\DeclareMathOperator{\\CDC}{CDC} \\newcommand{\\cdc}[1]{\\CDC(#1)}$\n",
    "$\\DeclareMathOperator{\\Upairs}{U} \\newcommand{\\upairs}[1]{\\Upairs(#1)}$\n",
    "\n",
    "Let $\\upairs{G}$ denote the set of all pairs $\\{u,v\\}\\subset V_G$ such that $uv\\notin E_G$ and \n",
    "there exists a path from $u$ to $v$ which is unicolor for all NAC-colorings $\\delta$ of $G$.\t\n",
    "If there exists a sequence of graphs $G=G_0, \\dots, G_n$ such that\n",
    "$G_i=(V_{G_{i-1}},E_{G_{i-1}} \\cup \\upairs{G_{i-1}})$ for $i\\in\\{1,\\dots,n\\}$\n",
    "and $\\upairs{G_n}=\\emptyset$,\n",
    "then the graph $G_n$ is called *the constant distance closure* of $G$, denoted by $\\cdc{G}$.\n",
    "\n",
    "**Theorem** [Grasegger, L., Schicho]\n",
    "\n",
    "A graph $G$ is movable if and only $\\cdc{G}$ is movable.\n",
    "\n",
    "**Corollary**\n",
    "\n",
    "If $G$ is movable, then $\\cdc{G}$ is not complete."
   ]
  },
  {
   "cell_type": "code",
   "execution_count": null,
   "metadata": {
    "collapsed": true
   },
   "outputs": [],
   "source": [
    "# examples, list of graphs satisfying the property"
   ]
  },
  {
   "cell_type": "markdown",
   "metadata": {},
   "source": [
    "**Lemma** [Grasegger, L., Schicho]\n",
    "\n",
    "Let $G=(V,E)$ be a graph with an injective embedding $\\omega:V\\rightarrow\\mathbb{R}^3$ such that for every edge \n",
    "$uv\\in E$, the vector $\\omega(u)-\\omega(v)$ is parallel to one of the four vectors $(1,0,0)$, $(0,1,0)$, $(0,0,1)$, $(-1,-1,-1)$, and all four directions are present.\n",
    "Then $G$ is movable.\n",
    "\n",
    "Moreover, there exist two NAC-colorings such that two edges are parallel in the embedding $\\omega$ if and only if they\n",
    "receive the same pair of colors."
   ]
  },
  {
   "cell_type": "code",
   "execution_count": null,
   "metadata": {
    "collapsed": true
   },
   "outputs": [],
   "source": [
    "# search through pairs of NACs for Q1 -> parametrization"
   ]
  },
  {
   "cell_type": "markdown",
   "metadata": {},
   "source": [
    "## Leading coefficient systems\n",
    "\n",
    "There is a way how *active* NAC-colorings are assigned to a motion.\n",
    "\n",
    "An active NAC-coloring might give a equation for edge lengths $\\lambda$."
   ]
  },
  {
   "cell_type": "code",
   "execution_count": null,
   "metadata": {
    "collapsed": true
   },
   "outputs": [],
   "source": [
    "# example for Q1 or K3,3"
   ]
  },
  {
   "cell_type": "markdown",
   "metadata": {},
   "source": [
    "## Collision-free models\n",
    "\n",
    "Can a movable graph be modelled by a planar linkage in 3D that is collision-free?\n",
    "\n",
    "$\\implies$ Place edges into different layers and avoid collision with the axis."
   ]
  },
  {
   "cell_type": "code",
   "execution_count": null,
   "metadata": {
    "collapsed": true
   },
   "outputs": [],
   "source": [
    "# height function construction\n",
    "# POV-ray animation"
   ]
  },
  {
   "cell_type": "code",
   "execution_count": null,
   "metadata": {
    "collapsed": true
   },
   "outputs": [],
   "source": []
  }
 ],
 "metadata": {
  "kernelspec": {
   "display_name": "SageMath 7.5.1",
   "language": "",
   "name": "sagemath"
  },
  "language_info": {
   "codemirror_mode": {
    "name": "ipython",
    "version": 2
   },
   "file_extension": ".py",
   "mimetype": "text/x-python",
   "name": "python",
   "nbconvert_exporter": "python",
   "pygments_lexer": "ipython2",
   "version": "2.7.13"
  }
 },
 "nbformat": 4,
 "nbformat_minor": 0
}
