{
 "cells": [
  {
   "cell_type": "markdown",
   "id": "9756a4f7",
   "metadata": {},
   "source": [
    "Cells are executed with `Shift+Enter`"
   ]
  },
  {
   "cell_type": "code",
   "execution_count": null,
   "id": "2f6df154",
   "metadata": {},
   "outputs": [],
   "source": [
    "# execute this cell with Shift+Enter at the beginning\n",
    "from flexrilog import GraphDrawer\n",
    "import sys\n",
    "sys.path.insert(0, \"..\")\n",
    "RR = RealField(8)\n",
    "%matplotlib notebook"
   ]
  },
  {
   "cell_type": "markdown",
   "id": "bfea3f15",
   "metadata": {},
   "source": [
    "The following cell provides a tool to draw a graph. Click to create a vertex, keep left mouse button pressed to add an edge. You can erase the last added vertex/edge by pressing `v`/`e` (keep the mouse in the area). By pressing `m` you can switch to mode allowing to move vertices, `d` switches back to drawing. Only connected, simple, loopless graphs with at least one edge are supported."
   ]
  },
  {
   "cell_type": "code",
   "execution_count": null,
   "id": "828521f8",
   "metadata": {},
   "outputs": [],
   "source": [
    "drawer = GraphDrawer()"
   ]
  },
  {
   "cell_type": "code",
   "execution_count": null,
   "id": "d7d5be3d",
   "metadata": {},
   "outputs": [],
   "source": [
    "G = drawer.get_graph()   #execution of this cell stores the currently drawn graph to G"
   ]
  },
  {
   "cell_type": "code",
   "execution_count": null,
   "id": "0ad9c553",
   "metadata": {},
   "outputs": [],
   "source": [
    "G.plot()   # execution displays the graph G"
   ]
  },
  {
   "cell_type": "code",
   "execution_count": null,
   "id": "f5620e2a",
   "metadata": {},
   "outputs": [],
   "source": [
    "G.graph2int(canonical=False)   #integer representation of the graph G"
   ]
  },
  {
   "cell_type": "code",
   "execution_count": null,
   "id": "0b17b6b4",
   "metadata": {},
   "outputs": [],
   "source": [
    "G.print_tikz()   #tikz code for the drawn framework"
   ]
  },
  {
   "cell_type": "code",
   "execution_count": null,
   "id": "1687c469",
   "metadata": {},
   "outputs": [],
   "source": [
    "G.vertices(sort=False)  #the list of vertices of G"
   ]
  },
  {
   "cell_type": "code",
   "execution_count": null,
   "id": "d89bedec",
   "metadata": {},
   "outputs": [],
   "source": [
    "G.edges(labels=False,sort=False)  #the list of edges of G"
   ]
  },
  {
   "cell_type": "code",
   "execution_count": null,
   "id": "226bbdac",
   "metadata": {},
   "outputs": [],
   "source": [
    "{k:vector(v,RR) for k,v in G._pos.items()}  #positions of the vertices"
   ]
  },
  {
   "cell_type": "code",
   "execution_count": null,
   "id": "108f67b4",
   "metadata": {},
   "outputs": [],
   "source": []
  }
 ],
 "metadata": {
  "kernelspec": {
   "display_name": "SageMath 10.0",
   "language": "sage",
   "name": "sagemath"
  },
  "language_info": {
   "codemirror_mode": {
    "name": "ipython",
    "version": 3
   },
   "file_extension": ".py",
   "mimetype": "text/x-python",
   "name": "python",
   "nbconvert_exporter": "python",
   "pygments_lexer": "ipython3",
   "version": "3.11.1"
  }
 },
 "nbformat": 4,
 "nbformat_minor": 5
}
