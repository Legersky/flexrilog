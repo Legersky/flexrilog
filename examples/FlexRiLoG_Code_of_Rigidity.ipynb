{
 "cells": [
  {
   "cell_type": "code",
   "execution_count": null,
   "metadata": {},
   "outputs": [],
   "source": [
    "# the first two cells must be executed\n",
    "\n",
    "import sys\n",
    "sys.path.insert(0, \"..\")"
   ]
  },
  {
   "cell_type": "code",
   "execution_count": null,
   "metadata": {
    "slideshow": {
     "slide_type": "-"
    }
   },
   "outputs": [],
   "source": [
    "%matplotlib notebook"
   ]
  },
  {
   "cell_type": "markdown",
   "metadata": {
    "slideshow": {
     "slide_type": "slide"
    }
   },
   "source": [
    "# FlexRiLoG - constructing flexible realizations via edge colorings\n",
    "\n",
    "Jan Legerský\n",
    "\n",
    " *Department of Applied Mathematics, Faculty of Information Technology, Czech Technical University in Prague*\n",
    " \n",
    "Special Semester on Rigidity and Flexibility, workshop Code of Rigidity\n",
    " \n",
    "Jupyter notebook: https://jan.legersky.cz/CodeOfRigidity"
   ]
  },
  {
   "cell_type": "markdown",
   "metadata": {
    "slideshow": {
     "slide_type": "slide"
    }
   },
   "source": [
    "### SageMath\n",
    "\n",
    "* free and open-source computer algebra system\n",
    "* started by William Stein in 2005\n",
    "* syntax resembling Python\n",
    "* instead reinventing wheel, SageMath integrates existing software packages, for instance:\n",
    "  - Algebraic geometry: Singular\n",
    "  - Linear algebra: ATLAS, BLAS, LAPACK, NumPy\n",
    "  - Graph theory: NetworkX\n"
   ]
  },
  {
   "cell_type": "markdown",
   "metadata": {
    "slideshow": {
     "slide_type": "slide"
    }
   },
   "source": [
    "### Algebraic Geometry: Circuit polynomial of wheel with 5 vertices"
   ]
  },
  {
   "cell_type": "code",
   "execution_count": null,
   "metadata": {},
   "outputs": [],
   "source": [
    "R.<l01, l02, l03, l04, l12, l13, l14, l23, l24, l34> = PolynomialRing(QQ, order='lex')"
   ]
  },
  {
   "cell_type": "code",
   "execution_count": null,
   "metadata": {},
   "outputs": [],
   "source": [
    "CMupper = matrix([[0, 1, 1, 1, 1, 1],\n",
    "                  [0, 0, l01, l02, l03, l04],\n",
    "                  [0, 0, 0, l12, l13, l14],\n",
    "                  [0, 0, 0, 0, l23, l24],\n",
    "                  [0, 0, 0, 0, 0, l34,],\n",
    "                  [0, 0, 0, 0, 0, 0]])\n",
    "CM = CMupper + CMupper.transpose()\n",
    "show(CM)"
   ]
  },
  {
   "cell_type": "code",
   "execution_count": null,
   "metadata": {
    "slideshow": {
     "slide_type": "slide"
    }
   },
   "outputs": [],
   "source": [
    "I = ideal(CM.minors(5)); I"
   ]
  },
  {
   "cell_type": "code",
   "execution_count": null,
   "metadata": {},
   "outputs": [],
   "source": [
    "graphs.WheelGraph(5)  # graphs provides many predefined graphs"
   ]
  },
  {
   "cell_type": "code",
   "execution_count": null,
   "metadata": {},
   "outputs": [],
   "source": [
    "basis = I.elimination_ideal([l13,l24]).basis\n",
    "len(basis)"
   ]
  },
  {
   "cell_type": "code",
   "execution_count": null,
   "metadata": {},
   "outputs": [],
   "source": [
    "basis"
   ]
  },
  {
   "cell_type": "code",
   "execution_count": null,
   "metadata": {},
   "outputs": [],
   "source": [
    "circuit_pol = basis[0]\n",
    "len(circuit_pol.monomials())"
   ]
  },
  {
   "cell_type": "markdown",
   "metadata": {
    "slideshow": {
     "slide_type": "slide"
    }
   },
   "source": [
    "### FlexRiLoG\n",
    "\n",
    "* **Flex**ible and **Ri**gid **L**abelings **o**f **G**raphs\n",
    "* available at https://github.com/Legersky/flexrilog\n",
    "* for research experiments\n",
    "* object-oriented, the main class FlexRiGraph inherited from Graph provided by SageMath"
   ]
  },
  {
   "cell_type": "markdown",
   "metadata": {
    "slideshow": {
     "slide_type": "slide"
    }
   },
   "source": [
    "### Flexible Frameworks"
   ]
  },
  {
   "cell_type": "markdown",
   "metadata": {
    "slideshow": {
     "slide_type": "-"
    }
   },
   "source": [
    "A *realization* of a graph $G=(V_G, E_G)$ is a map\n",
    "$$p:V_G \\rightarrow \\mathbb{R}^2$$\n",
    "such that $p(u)\\neq p(v)$ if $uv \\in E_G$."
   ]
  },
  {
   "cell_type": "markdown",
   "metadata": {
    "slideshow": {
     "slide_type": "fragment"
    }
   },
   "source": [
    "A *framework* $(G,p)$ is *flexible* if there is a continuous curve  starting at $p$ of non-congruent realizations that have the same edge lengths as $(G,p)$."
   ]
  },
  {
   "cell_type": "markdown",
   "metadata": {
    "slideshow": {
     "slide_type": "slide"
    }
   },
   "source": [
    "### Dixon I flex of $K_{3,3}$"
   ]
  },
  {
   "cell_type": "code",
   "execution_count": null,
   "metadata": {
    "slideshow": {
     "slide_type": "-"
    }
   },
   "outputs": [],
   "source": [
    "from flexrilog import FlexRiGraph, GraphMotion\n",
    "t = var('t')\n",
    "K33 = FlexRiGraph(graphs.CompleteBipartiteGraph(3,3))\n",
    "parametrization = {0: vector([-sqrt(2+sin(t)^2),0]),    1: vector([sin(t),0]),\n",
    "                   2: vector([sqrt(1+sin(t)^2),0]),    3: vector([0,sqrt(1+cos(t)*cos(t))]),\n",
    "                   4: vector([0,-sqrt(2+cos(t)^2)]),    5: vector([0,cos(t)]),}\n",
    "motion_K33 = GraphMotion.ParametricMotion(K33,parametrization,'symbolic',check=True)"
   ]
  },
  {
   "cell_type": "code",
   "execution_count": null,
   "metadata": {
    "slideshow": {
     "slide_type": "-"
    }
   },
   "outputs": [],
   "source": [
    "show(parametrization[2],parametrization[3])"
   ]
  },
  {
   "cell_type": "code",
   "execution_count": null,
   "metadata": {},
   "outputs": [],
   "source": [
    "motion_K33.animation_SVG(edge_partition=False)"
   ]
  },
  {
   "cell_type": "markdown",
   "metadata": {
    "slideshow": {
     "slide_type": "slide"
    }
   },
   "source": [
    "### NAC-colorings\n",
    "\n",
    "A coloring of edges $\\delta : E_G \\rightarrow \\{blue, red\\}$ is called a *NAC-coloring*,\n",
    "if it is surjective and for every cycle in G , either all edges in the\n",
    "cycle have the same color, or there are at least two blue and two\n",
    "red edges in the cycle."
   ]
  },
  {
   "cell_type": "code",
   "execution_count": null,
   "metadata": {
    "slideshow": {
     "slide_type": "fragment"
    }
   },
   "outputs": [],
   "source": [
    "C4 = FlexRiGraph(graphs.CycleGraph(4))\n",
    "C4.show_all_NAC_colorings()"
   ]
  },
  {
   "cell_type": "markdown",
   "metadata": {
    "slideshow": {
     "slide_type": "slide"
    }
   },
   "source": [
    "### Theorem (Grasegger, L., Schicho, 2019)\n",
    "A connected graph with at least one edge has a flexible realization if and only if it has a NAC-coloring."
   ]
  },
  {
   "cell_type": "code",
   "execution_count": null,
   "metadata": {
    "slideshow": {
     "slide_type": "slide"
    }
   },
   "outputs": [],
   "source": [
    "from flexrilog import GraphDrawer\n",
    "drawer = GraphDrawer()"
   ]
  },
  {
   "cell_type": "code",
   "execution_count": null,
   "metadata": {
    "slideshow": {
     "slide_type": "slide"
    }
   },
   "outputs": [],
   "source": [
    "G = drawer.get_graph(); G"
   ]
  },
  {
   "cell_type": "code",
   "execution_count": null,
   "metadata": {},
   "outputs": [],
   "source": [
    "G."
   ]
  },
  {
   "cell_type": "code",
   "execution_count": null,
   "metadata": {},
   "outputs": [],
   "source": [
    "print(G.NAC_colorings())\n",
    "delta = G.NAC_colorings()[0]"
   ]
  },
  {
   "cell_type": "code",
   "execution_count": null,
   "metadata": {
    "slideshow": {
     "slide_type": "slide"
    }
   },
   "outputs": [],
   "source": [
    "delta\n",
    "GraphMotion.GridConstruction(G,delta,zigzag=False).animation_SVG(edge_partition=delta)"
   ]
  },
  {
   "cell_type": "code",
   "execution_count": null,
   "metadata": {},
   "outputs": [],
   "source": [
    "G.has_injective_grid_construction()"
   ]
  },
  {
   "cell_type": "markdown",
   "metadata": {
    "slideshow": {
     "slide_type": "slide"
    }
   },
   "source": [
    "### Rotationally symetric TP-frameworks"
   ]
  },
  {
   "cell_type": "code",
   "execution_count": null,
   "metadata": {
    "slideshow": {
     "slide_type": "-"
    }
   },
   "outputs": [],
   "source": [
    "from flexrilog import Pframework, CnSymmetricFlexRiGraphCartesianNACs\n",
    "from flexrilog import CnSymmetricFlexRiGraph, GraphGenerator"
   ]
  },
  {
   "cell_type": "code",
   "execution_count": null,
   "metadata": {
    "slideshow": {
     "slide_type": "-"
    }
   },
   "outputs": [],
   "source": [
    "P = GraphGenerator.PenroseFramework(6,numeric=True,radius=10)\n",
    "plot_args = {'vertex_labels':False,'vertex_size':0, 'edge_thickness':1}\n",
    "Pplot = P.plot(**plot_args)\n",
    "filling = point2d([])\n",
    "for a,b,c,d in P.four_cycles():\n",
    "    if abs(RR((vector(P._pos[a])-vector(P._pos[b]))*(vector(P._pos[c])-vector(P._pos[b])))) < 0.4:\n",
    "        filling += polygon([P._pos[v] for v in [a,b,c,d]], color='lightblue', axes=False)\n",
    "Pplot + filling"
   ]
  },
  {
   "cell_type": "code",
   "execution_count": null,
   "metadata": {
    "slideshow": {
     "slide_type": "slide"
    }
   },
   "outputs": [],
   "source": [
    "def findPentaStars(P):\n",
    "    res = []\n",
    "    for v in P.vertices(sort=False):\n",
    "        if P.degree(v)==5:\n",
    "            if sum([1 for u in P.neighbors(v) if P.degree(u)==3])==5:\n",
    "                res.append([v, [u for u in P.neighbors(v)], P.distance('0',v)])\n",
    "    return res\n",
    "braces = [[u,v]  for S in findPentaStars(P) for u,v in Subsets(S[1],2) \n",
    "          if ((vector(P._pos[u])-vector(P._pos[v])).norm() < 1.5 and S[2] in [6, 9])]\n",
    "Pbraced = FlexRiGraph(P.edges(sort=False)+braces,pos=P._pos,check=False)\n",
    "Pbraced.plot(**plot_args)+filling"
   ]
  },
  {
   "cell_type": "code",
   "execution_count": null,
   "metadata": {
    "slideshow": {
     "slide_type": "slide"
    }
   },
   "outputs": [],
   "source": [
    "sym = CnSymmetricFlexRiGraphCartesianNACs.Cn_symmetries_gens(Pbraced,5)\n",
    "PenroseBraced = CnSymmetricFlexRiGraphCartesianNACs(Pbraced, sym)"
   ]
  },
  {
   "cell_type": "code",
   "execution_count": null,
   "metadata": {},
   "outputs": [],
   "source": [
    "PenroseBraced.Cn_symmetric_NAC_colorings()"
   ]
  },
  {
   "cell_type": "markdown",
   "metadata": {},
   "source": [
    "A NAC-coloring is *Cartesian* if no two vertices are connected by a red and blue path simultaneously."
   ]
  },
  {
   "cell_type": "code",
   "execution_count": null,
   "metadata": {},
   "outputs": [],
   "source": [
    "FlexRiGraph(graphs.CycleGraph(4)).show_all_NAC_colorings()"
   ]
  },
  {
   "cell_type": "code",
   "execution_count": null,
   "metadata": {
    "slideshow": {
     "slide_type": "slide"
    }
   },
   "outputs": [],
   "source": [
    "deltaP = PenroseBraced.Cn_symmetric_NAC_colorings()[-1]\n",
    "deltaP.plot(**plot_args)"
   ]
  },
  {
   "cell_type": "code",
   "execution_count": null,
   "metadata": {
    "slideshow": {
     "slide_type": "slide"
    }
   },
   "outputs": [],
   "source": [
    "M = Pframework(PenroseBraced,PenroseBraced._pos,check=False).flex_from_cartesian_NAC(deltaP)\n",
    "M.animation_SVG(edge_partition=deltaP,vertex_labels=False,totalTime=24)"
   ]
  },
  {
   "cell_type": "markdown",
   "metadata": {},
   "source": [
    "### Theorem (Grasegger, L., 2024)\n",
    "A rotationally symmetric TP-framework is flexible if and only if the graph has a rotationally symmetric Cartesian NAC-coloring."
   ]
  },
  {
   "cell_type": "markdown",
   "metadata": {
    "slideshow": {
     "slide_type": "slide"
    }
   },
   "source": [
    "### Reflection symmetry"
   ]
  },
  {
   "cell_type": "code",
   "execution_count": null,
   "metadata": {},
   "outputs": [],
   "source": [
    "from flexrilog import CsSymmetricFlexRiGraph\n",
    "Gcs = FlexRiGraph([(0, 1), (0, 2), (0, 3), (0, 9), (1, 2), (1, 7), (1, 8), (2, 4), (2, 6),\n",
    "                   (3, 4), (3, 8), (4, 5), (4, 8), (5, 6), (6, 7), (6, 9), (7, 9)])\n",
    "Cs_sym = CsSymmetricFlexRiGraph.Cs_symmetries_gens_according_isomorphic_orbits(Gcs)[0]\n",
    "G_Cs = CsSymmetricFlexRiGraph(Gcs,Cs_sym)\n",
    "G_Cs.set_symmetric_positions({ 1: [1, 0], 2: [0, 1.3], 5: [0, 3.5], \n",
    "                              6: [1.4, 2.5 ], 7: [2, 0.9], 9: [1.1, 1.5]})\n",
    "G_Cs"
   ]
  },
  {
   "cell_type": "markdown",
   "metadata": {
    "slideshow": {
     "slide_type": "slide"
    }
   },
   "source": [
    "### Theorem (Dewar, Grasegger, L., 2024+)\n",
    "If a reflection-symmetric framework with symmetry $\\sigma$ is flexible, then the graph has a *pseudo-RS-coloring*, which is an edge colouring\n",
    "$\\delta:E_G\\rightarrow \\{red,blue,gold\\}$ such that:\n",
    " * $ \\{ red,blue \\}\\subseteq \\delta(E_G) \\subseteq \\{ red,blue, gold \\}$,\n",
    " * changing gold to blue results in a NAC-colouring,\n",
    " * changing gold to red results in a NAC-colouring,\n",
    " * $\\delta(e) = red$ if and only if $\\delta(\\sigma e) = blue$ for all $e\\in E_G$,  and\n",
    " * if $\\delta(e) = gold$ then $\\delta(\\sigma e) = gold$ for all $e\\in E_G$."
   ]
  },
  {
   "cell_type": "code",
   "execution_count": null,
   "metadata": {},
   "outputs": [],
   "source": [
    "G_Cs.show_all_pseudoRScolorings()"
   ]
  },
  {
   "cell_type": "code",
   "execution_count": null,
   "metadata": {
    "slideshow": {
     "slide_type": "slide"
    }
   },
   "outputs": [],
   "source": [
    "from flexrilog import colB, colG, colR\n",
    "d_Cs = G_Cs.pseudoRScolorings()[1]\n",
    "GraphMotion.CsSymmetricGridConstruction(G_Cs, d_Cs).animation_SVG(colors=[colR,colB,colG],\n",
    "                edge_partition=[d_Cs.red_edges(),d_Cs.blue_edges(),d_Cs.golden_edges()])"
   ]
  },
  {
   "cell_type": "code",
   "execution_count": null,
   "metadata": {
    "slideshow": {
     "slide_type": "slide"
    }
   },
   "outputs": [],
   "source": [
    "C5 = CsSymmetricFlexRiGraph(graphs.CycleGraph(5),PermutationGroupElement([(2,3),(1,4)]))\n",
    "C5.show_all_pseudoRScolorings()"
   ]
  },
  {
   "cell_type": "code",
   "execution_count": null,
   "metadata": {},
   "outputs": [],
   "source": [
    "delta5 = C5.pseudoRScolorings()[0]\n",
    "GraphMotion.CsSymmetricGridConstruction(C5, delta5).animation_SVG(colors=[colR,colB,colG],\n",
    "                edge_partition=[delta5.red_edges(),delta5.blue_edges(),delta5.golden_edges()])"
   ]
  },
  {
   "cell_type": "markdown",
   "metadata": {
    "slideshow": {
     "slide_type": "slide"
    }
   },
   "source": [
    "### Thank you\n",
    "\n",
    "![Penrose](penrose.svg)"
   ]
  }
 ],
 "metadata": {
  "celltoolbar": "Slideshow",
  "kernelspec": {
   "display_name": "SageMath 10.0",
   "language": "sage",
   "name": "sagemath"
  },
  "language_info": {
   "codemirror_mode": {
    "name": "ipython",
    "version": 3
   },
   "file_extension": ".py",
   "mimetype": "text/x-python",
   "name": "python",
   "nbconvert_exporter": "python",
   "pygments_lexer": "ipython3",
   "version": "3.11.1"
  },
  "rise": {
   "center": false,
   "controlsTutorial": false,
   "enable_chalkboard": true,
   "help": false,
   "slideNumber": false,
   "theme": "simple",
   "transition": "none"
  }
 },
 "nbformat": 4,
 "nbformat_minor": 2
}
