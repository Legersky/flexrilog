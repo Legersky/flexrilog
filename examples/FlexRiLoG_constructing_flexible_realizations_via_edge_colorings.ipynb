{
 "cells": [
  {
   "cell_type": "code",
   "execution_count": null,
   "metadata": {},
   "outputs": [],
   "source": [
    "# the first three cells must be executed\n",
    "\n",
    "import sys\n",
    "sys.path.insert(0, \"..\")"
   ]
  },
  {
   "cell_type": "code",
   "execution_count": null,
   "metadata": {
    "slideshow": {
     "slide_type": "skip"
    }
   },
   "outputs": [],
   "source": [
    "%matplotlib notebook"
   ]
  },
  {
   "cell_type": "code",
   "execution_count": null,
   "metadata": {
    "slideshow": {
     "slide_type": "skip"
    }
   },
   "outputs": [],
   "source": [
    "import matplotlib.pyplot as plt\n",
    "import numpy as np\n",
    "import os\n",
    "from flexrilog import FlexRiGraph\n",
    "\n",
    "from matplotlib.backend_bases import MouseButton\n",
    "from matplotlib.collections import LineCollection\n",
    "\n",
    "class GraphDrawer:\n",
    "    epsilon = 15  # max pixel distance to count as a vertex hit\n",
    "\n",
    "    def __init__(self):\n",
    "        \n",
    "        _, self.ax = plt.subplots()\n",
    "        plt.gcf().set_size_inches(9,6)\n",
    "        self.coll = LineCollection([])\n",
    "        self.ax.add_collection(self.coll)\n",
    "        \n",
    "        self.coll.set_animated(True)\n",
    "        self.ax.set_xlim(-3, 4)\n",
    "        self.ax.set_ylim(-3, 4)\n",
    "\n",
    "        self.ax.set_title('keys: d - DRAWING, m - moving vertices\\n  e - delete last edge, v - delete last vertex')\n",
    "        canvas = self.ax.figure.canvas\n",
    "        \n",
    "        self.edges = []\n",
    "        self.verts = np.array([[0,0]])\n",
    "        self.labels = [self.ax.text(0,0,0,bbox={'facecolor': 'blue', 'alpha': 0.5, 'pad': 1})]\n",
    "        \n",
    "        self.first = None\n",
    "        self._ind = None  # the active vertex\n",
    "        self.mode = 'draw'\n",
    "\n",
    "        canvas.mpl_connect('draw_event', self.on_draw)\n",
    "        canvas.mpl_connect('button_press_event', self.on_button_press)\n",
    "        canvas.mpl_connect('key_press_event', self.on_key_press)\n",
    "        canvas.mpl_connect('button_release_event', self.on_button_release)\n",
    "        canvas.mpl_connect('motion_notify_event', self.on_mouse_move)\n",
    "        self.canvas = canvas\n",
    "        self.background = self.canvas.copy_from_bbox(self.ax.bbox)\n",
    "        self.update_segments()\n",
    "\n",
    "    def _print(self,s):\n",
    "        os.write(1,str(s).encode())\n",
    "        os.write(1,'\\n'.encode())\n",
    "        \n",
    "    def report(self):\n",
    "        self._print('Vertices:')\n",
    "        self._print(self.verts)\n",
    "        self._print('Edges:')\n",
    "        self._print(self.edges)\n",
    "        self._print('Selected:')\n",
    "        self._print(self._ind)\n",
    "        self._print('First')\n",
    "        self._print(self.first)\n",
    "        \n",
    "    def add_vertex(self,x,y):\n",
    "        self.verts = np.append(self.verts,\n",
    "                               np.array([[x,y]]), axis=0)\n",
    "        self.labels.append(self.ax.text(x,y,str(len(self.verts)-1),\n",
    "                                  bbox={'facecolor': 'blue', 'alpha': 0.5, 'pad': 1}))\n",
    "        return len(self.verts)-1\n",
    "    \n",
    "    def remove_last_vertex(self):\n",
    "        if len(self.verts)>0:\n",
    "            self.verts = self.verts[:-1]\n",
    "            self.labels[-1].remove()\n",
    "            self.labels = self.labels[:-1]\n",
    "            w = len(self.verts)\n",
    "            self.edges = [e for e in self.edges if not w in e]\n",
    "            \n",
    "    \n",
    "    def remove_last_edge(self):\n",
    "        self.edges = self.edges[:-1]\n",
    "    \n",
    "    def add_edge(self,u,v):\n",
    "        self.edges.append([u,v])\n",
    "        \n",
    "    def update_segments(self):\n",
    "        segments = [[self.verts[u],self.verts[v]] for u,v in self.edges]\n",
    "        self.coll.set_segments(segments)\n",
    "        for i,z in enumerate(self.verts):\n",
    "            self.labels[i].set_position(z)\n",
    "            self.labels[i].set_bbox({'facecolor': 'blue' if i!=self.first else 'red', 'alpha': 0.5, 'pad': 1})\n",
    "        \n",
    "        self.canvas.restore_region(self.background)\n",
    "        self.ax.draw_artist(self.coll)\n",
    "        self.canvas.blit(self.ax.bbox)\n",
    "#         self.report()\n",
    "        \n",
    "    def get_ind_under_point(self, event):\n",
    "        \"\"\"\n",
    "        Return the index of the point closest to the event position or *None*\n",
    "        if no point is within ``self.epsilon`` to the event position.\n",
    "        \"\"\"\n",
    "        xyt = self.ax.transData.transform(self.verts)\n",
    "        d = np.sqrt((xyt[:,0] - event.x)**2 + (xyt[:,1] - event.y)**2)\n",
    "        if len(d)==0:\n",
    "            return None\n",
    "        ind = d.argmin()\n",
    "        return ind if d[ind] < self.epsilon else None\n",
    "\n",
    "    def on_draw(self, event):\n",
    "        \"\"\"Callback for draws.\"\"\"\n",
    "        self.background = self.canvas.copy_from_bbox(self.ax.bbox)\n",
    "        self.ax.draw_artist(self.coll)\n",
    "        self.canvas.blit(self.ax.bbox)\n",
    "\n",
    "    def on_button_press(self, event):\n",
    "        \"\"\"Callback for mouse button presses.\"\"\"\n",
    "        if (event.inaxes is None\n",
    "            or event.button != MouseButton.LEFT\n",
    "            or not self.ax.get_navigate_mode() is None\n",
    "           ):\n",
    "            return\n",
    "        self._ind = self.get_ind_under_point(event)\n",
    "        if self.mode == 'draw':\n",
    "            if self.first == None:\n",
    "                if self._ind == None:\n",
    "                    self.first = self.add_vertex(event.xdata, event.ydata)\n",
    "                    self.update_segments()\n",
    "                else:\n",
    "                    self.first = self._ind\n",
    "                    self.update_segments()\n",
    "                    self._ind = None\n",
    "\n",
    "    def on_button_release(self, event):\n",
    "        \"\"\"Callback for mouse button releases.\"\"\"\n",
    "        if (event.button != MouseButton.LEFT\n",
    "            or not self.ax.get_navigate_mode() is None):\n",
    "            return\n",
    "        if self.mode == 'draw':\n",
    "            self._ind = self.get_ind_under_point(event)\n",
    "            if self._ind == None:\n",
    "                w = self.add_vertex(event.xdata, event.ydata)\n",
    "            else:\n",
    "                w = self._ind\n",
    "            if self.first != w:\n",
    "                self.add_edge(self.first,w)\n",
    "            self.first = None\n",
    "            self._ind = None\n",
    "            self.update_segments()\n",
    "\n",
    "    \n",
    "    def on_key_press(self, event):\n",
    "        \"\"\"Callback for key presses.\"\"\"\n",
    "        if not event.inaxes:\n",
    "            return\n",
    "        if event.key == 'd' or event.key == 'D':\n",
    "            self.mode = 'draw'\n",
    "            self.ax.set_title('keys: d - DRAWING, m - moving vertices\\n  e - delete last edge, v - delete last vertex')\n",
    "        if event.key == 'm' or event.key == 'M':\n",
    "            self.mode = 'move'\n",
    "            self.ax.set_title('keys: d - drawing, m - MOVING vertices\\n  e - delete last edge, v - delete last vertex')\n",
    "        \n",
    "        if event.key == 'e' or event.key == 'E':\n",
    "            self.remove_last_edge()\n",
    "            self.update_segments()\n",
    "        if event.key == 'v' or event.key == 'V':\n",
    "            self.remove_last_vertex()\n",
    "            self.update_segments()\n",
    "        self.canvas.draw()\n",
    "\n",
    "    def on_mouse_move(self, event):\n",
    "        \"\"\"Callback for mouse movements.\"\"\"\n",
    "        if (self._ind is None\n",
    "                or event.inaxes is None\n",
    "                or event.button != MouseButton.LEFT\n",
    "                or self.mode!='move'\n",
    "                or not self.ax.get_navigate_mode() is None):\n",
    "            return\n",
    "        \n",
    "        self.verts[self._ind] = np.array([event.xdata, event.ydata])\n",
    "        self.update_segments()\n",
    "\n",
    "    def get_graph(self):\n",
    "        return FlexRiGraph(self.edges,\n",
    "                           pos={i:p for i,p in enumerate(self.verts)}\n",
    "                          )\n"
   ]
  },
  {
   "cell_type": "markdown",
   "metadata": {
    "slideshow": {
     "slide_type": "slide"
    }
   },
   "source": [
    "# FlexRiLoG - constructing flexible realizations via edge colorings\n",
    "\n",
    "Jan Legerský\n",
    "\n",
    " *Department of Applied Mathematics, Faculty of Information Technology, Czech Technical University in Prague*\n",
    " \n",
    "Special Semester on Rigidity and Flexibility, workshop Code of Rigidity\n",
    " \n",
    "Jupyter notebook: https://jan.legersky.cz/CodeOfRigidity"
   ]
  },
  {
   "cell_type": "markdown",
   "metadata": {
    "slideshow": {
     "slide_type": "slide"
    }
   },
   "source": [
    "### The Package\n",
    "\n",
    "<span style=\"font-variant:small-caps;\">FlexRiLoG</span>:\n",
    "Package for <span style=\"font-variant:small-caps;\">SageMath</span>\n",
    "\n",
    "Available at https://github.com/Legersky/flexrilog."
   ]
  },
  {
   "cell_type": "markdown",
   "metadata": {
    "slideshow": {
     "slide_type": "slide"
    }
   },
   "source": [
    "### Flexible Frameworks"
   ]
  },
  {
   "cell_type": "markdown",
   "metadata": {
    "slideshow": {
     "slide_type": "-"
    }
   },
   "source": [
    "A *realization* (or *placement*) of a graph $G=(V_G, E_G)$ is a map\n",
    "$$p:V_G \\rightarrow \\mathbb{R}^2$$\n",
    "such that $p(u)\\neq p(v)$ if $uv \\in E_G$."
   ]
  },
  {
   "cell_type": "markdown",
   "metadata": {
    "slideshow": {
     "slide_type": "fragment"
    }
   },
   "source": [
    "A *framework* $(G,p)$ is *flexible* if there are infinitely many non-congruent realizations $r$ such that\n",
    "$$\n",
    "    ||r(u)-r(v)|| = ||p(u)-p(v)||\n",
    "$$\n",
    "for all $uv \\in E_G$."
   ]
  },
  {
   "cell_type": "markdown",
   "metadata": {
    "slideshow": {
     "slide_type": "slide"
    }
   },
   "source": [
    "### Flexible $K_{3,3}$"
   ]
  },
  {
   "cell_type": "code",
   "execution_count": null,
   "metadata": {
    "slideshow": {
     "slide_type": "-"
    }
   },
   "outputs": [],
   "source": [
    "from flexrilog import FlexRiGraph, GraphMotion\n",
    "t = var('t')\n",
    "K33 = FlexRiGraph(graphs.CompleteBipartiteGraph(3,3))\n",
    "parametrization = {0: vector([-sqrt(2+sin(t)^2),0]),    1: vector([sin(t),0]),    2: vector([sqrt(1+sin(t)^2),0]),\n",
    "    3: vector([0,sqrt(1+cos(t)*cos(t))]),    4: vector([0,-sqrt(2+cos(t)^2)]),    5: vector([0,cos(t)]),}\n",
    "motion_K33 = GraphMotion.ParametricMotion(K33,parametrization,'symbolic',check=True)"
   ]
  },
  {
   "cell_type": "code",
   "execution_count": null,
   "metadata": {
    "slideshow": {
     "slide_type": "-"
    }
   },
   "outputs": [],
   "source": [
    "show(parametrization[0])"
   ]
  },
  {
   "cell_type": "code",
   "execution_count": null,
   "metadata": {},
   "outputs": [],
   "source": [
    "motion_K33.animation_SVG()"
   ]
  },
  {
   "cell_type": "code",
   "execution_count": null,
   "metadata": {
    "slideshow": {
     "slide_type": "slide"
    }
   },
   "outputs": [],
   "source": [
    "print(motion_K33.edge_lengths())"
   ]
  },
  {
   "cell_type": "markdown",
   "metadata": {
    "slideshow": {
     "slide_type": "slide"
    }
   },
   "source": [
    "### NAC-colorings\n",
    "\n",
    "A coloring of edges $\\delta : E_G \\rightarrow \\{blue, red\\}$ is called a *NAC-coloring*,\n",
    "if it is surjective and for every cycle in G , either all edges in the\n",
    "cycle have the same color, or there are at least two blue and two\n",
    "red edges in the cycle."
   ]
  },
  {
   "cell_type": "code",
   "execution_count": null,
   "metadata": {
    "slideshow": {
     "slide_type": "fragment"
    }
   },
   "outputs": [],
   "source": [
    "from flexrilog import FlexRiGraph, GraphMotion, GraphGenerator\n",
    "C4 = FlexRiGraph(graphs.CycleGraph(4))\n",
    "C4.show_all_NAC_colorings()"
   ]
  },
  {
   "cell_type": "markdown",
   "metadata": {
    "slideshow": {
     "slide_type": "slide"
    }
   },
   "source": [
    "### Theorem (Grasegger, L., Schicho, 2019)\n",
    "A connected graph with at least one edge has a flexible realization if and only if it has a NAC-coloring."
   ]
  },
  {
   "cell_type": "code",
   "execution_count": null,
   "metadata": {
    "slideshow": {
     "slide_type": "slide"
    }
   },
   "outputs": [],
   "source": [
    "drawer = GraphDrawer()"
   ]
  },
  {
   "cell_type": "code",
   "execution_count": null,
   "metadata": {
    "slideshow": {
     "slide_type": "slide"
    }
   },
   "outputs": [],
   "source": [
    "G = drawer.get_graph(); G"
   ]
  },
  {
   "cell_type": "code",
   "execution_count": null,
   "metadata": {},
   "outputs": [],
   "source": [
    "print(G.NAC_colorings())\n",
    "delta = G.NAC_colorings()[0]"
   ]
  },
  {
   "cell_type": "code",
   "execution_count": null,
   "metadata": {
    "slideshow": {
     "slide_type": "slide"
    }
   },
   "outputs": [],
   "source": [
    "delta\n",
    "GraphMotion.GridConstruction(G,delta,zigzag=False).animation_SVG(edge_partition=delta)"
   ]
  },
  {
   "cell_type": "code",
   "execution_count": null,
   "metadata": {},
   "outputs": [],
   "source": [
    "G.has_injective_grid_construction()"
   ]
  },
  {
   "cell_type": "markdown",
   "metadata": {
    "slideshow": {
     "slide_type": "slide"
    }
   },
   "source": [
    "### Rotationally symetric TP-frameworks"
   ]
  },
  {
   "cell_type": "code",
   "execution_count": null,
   "metadata": {
    "slideshow": {
     "slide_type": "-"
    }
   },
   "outputs": [],
   "source": [
    "from flexrilog import Pframework, CnSymmetricFlexRiGraphCartesianNACs, CnSymmetricFlexRiGraph"
   ]
  },
  {
   "cell_type": "code",
   "execution_count": null,
   "metadata": {
    "slideshow": {
     "slide_type": "-"
    }
   },
   "outputs": [],
   "source": [
    "P = GraphGenerator.PenroseFramework(6,numeric=True,radius=10)\n",
    "plot_args = {'vertex_labels':False,'vertex_size':0, 'edge_thickness':1}\n",
    "Pplot = P.plot(**plot_args)\n",
    "filling = point2d([])\n",
    "for a,b,c,d in P.four_cycles():\n",
    "    if abs(RR((vector(P._pos[a])-vector(P._pos[b]))*(vector(P._pos[c])-vector(P._pos[b])))) < 0.4:\n",
    "        filling += polygon([P._pos[v] for v in [a,b,c,d]], color='lightblue', axes=False)\n",
    "Pplot + filling"
   ]
  },
  {
   "cell_type": "code",
   "execution_count": null,
   "metadata": {
    "slideshow": {
     "slide_type": "slide"
    }
   },
   "outputs": [],
   "source": [
    "def findPentaStars(P):\n",
    "    res = []\n",
    "    for v in P.vertices(sort=False):\n",
    "        if P.degree(v)==5:\n",
    "            if sum([1 for u in P.neighbors(v) if P.degree(u)==3])==5:\n",
    "                res.append([v, [u for u in P.neighbors(v)], P.distance('0',v)])\n",
    "    return res\n",
    "braces = [[u,v]  for S in findPentaStars(P) for u,v in Subsets(S[1],2) \n",
    "          if ((vector(P._pos[u])-vector(P._pos[v])).norm() < 1.5 and S[2] in [6, 9])]\n",
    "Pbraced = FlexRiGraph(P.edges(sort=False)+braces,pos=P._pos,check=False)\n",
    "Pbraced.plot(**plot_args)"
   ]
  },
  {
   "cell_type": "code",
   "execution_count": null,
   "metadata": {
    "slideshow": {
     "slide_type": "slide"
    }
   },
   "outputs": [],
   "source": [
    "sym = CnSymmetricFlexRiGraphCartesianNACs.Cn_symmetries_gens(Pbraced,5)\n",
    "PenroseBraced = CnSymmetricFlexRiGraphCartesianNACs(Pbraced, sym)"
   ]
  },
  {
   "cell_type": "code",
   "execution_count": null,
   "metadata": {},
   "outputs": [],
   "source": [
    "PenroseBraced.Cn_symmetric_NAC_colorings()"
   ]
  },
  {
   "cell_type": "markdown",
   "metadata": {},
   "source": [
    "A NAC-coloring is *Cartesian* if no two vertices are connected by a red and blue path simultaneously."
   ]
  },
  {
   "cell_type": "code",
   "execution_count": null,
   "metadata": {
    "slideshow": {
     "slide_type": "slide"
    }
   },
   "outputs": [],
   "source": [
    "deltaP = PenroseBraced.Cn_symmetric_NAC_colorings()[-1]\n",
    "deltaP.plot(**plot_args)"
   ]
  },
  {
   "cell_type": "code",
   "execution_count": null,
   "metadata": {
    "slideshow": {
     "slide_type": "slide"
    }
   },
   "outputs": [],
   "source": [
    "M = Pframework(PenroseBraced,PenroseBraced._pos,check=False).flex_from_cartesian_NAC(deltaP)\n",
    "M.animation_SVG(edge_partition=deltaP,vertex_labels=False,totalTime=24,fileName='penrose')"
   ]
  },
  {
   "cell_type": "markdown",
   "metadata": {},
   "source": [
    "### Theorem (Grasegger, L., 2024)\n",
    "A rotationally symmetric TP-framework is flexible if and only if the graph has a rotationally symmetric Cartesian NAC-coloring."
   ]
  },
  {
   "cell_type": "markdown",
   "metadata": {
    "slideshow": {
     "slide_type": "slide"
    }
   },
   "source": [
    "### Reflection symmetry"
   ]
  },
  {
   "cell_type": "code",
   "execution_count": null,
   "metadata": {},
   "outputs": [],
   "source": [
    "from flexrilog import CsSymmetricFlexRiGraph\n",
    "Gcs = FlexRiGraph([(0, 1), (0, 2), (0, 3), (0, 9), (1, 2), (1, 7), (1, 8), (2, 4), (2, 6),\n",
    "                   (3, 4), (3, 8), (4, 5), (4, 8), (5, 6), (6, 7), (6, 9), (7, 9)])\n",
    "Cs_sym = CsSymmetricFlexRiGraph.Cs_symmetries_gens_according_isomorphic_orbits(Gcs)[0]\n",
    "G_Cs = CsSymmetricFlexRiGraph(Gcs,Cs_sym)\n",
    "G_Cs.set_symmetric_positions({ 1: [1.03, 0.16], 2: [0, 1.37], 5: [0, 3.49], \n",
    "                              6: [1.38, 2.5 ], 7: [1.91, 0.87], 9: [1.17, 1.54]})\n",
    "G_Cs"
   ]
  },
  {
   "cell_type": "markdown",
   "metadata": {
    "slideshow": {
     "slide_type": "slide"
    }
   },
   "source": [
    "### Theorem (Dewar, Grasegger, L., 2024+)\n",
    "If a reflection-symmetric framework with symmetry $\\sigma$ is flexible, then the graph has a *pseudo-RS-coloring*, which is an edge colouring\n",
    "$\\delta:E_G\\rightarrow \\{red,blue,gold\\}$ such that:\n",
    " * $ \\{ red,blue \\}\\subseteq \\delta(E_G) \\subseteq \\{ red,blue, gold \\}$,\n",
    " * changing gold to blue results in a NAC-colouring,\n",
    " * changing gold to red results in a NAC-colouring,\n",
    " * $\\delta(e) = red$ if and only if $\\delta(\\sigma e) = blue$ for all $e\\in E_G$,  and\n",
    " * if $\\delta(e) = gold$ then $\\delta(\\sigma e) = gold$ for all $e\\in E_G$."
   ]
  },
  {
   "cell_type": "code",
   "execution_count": null,
   "metadata": {},
   "outputs": [],
   "source": [
    "G_Cs.show_all_pseudoRScolorings()"
   ]
  },
  {
   "cell_type": "code",
   "execution_count": null,
   "metadata": {
    "slideshow": {
     "slide_type": "slide"
    }
   },
   "outputs": [],
   "source": [
    "from flexrilog import colB, colG, colR\n",
    "d_Cs = G_Cs.pseudoRScolorings()[1]\n",
    "GraphMotion.CsSymmetricGridConstruction(G_Cs, d_Cs).animation_SVG(colors=[colR,colB,colG],\n",
    "                edge_partition=[d_Cs.red_edges(),d_Cs.blue_edges(),d_Cs.golden_edges()])"
   ]
  }
 ],
 "metadata": {
  "celltoolbar": "Slideshow",
  "kernelspec": {
   "display_name": "SageMath 10.0",
   "language": "sage",
   "name": "sagemath"
  },
  "language_info": {
   "codemirror_mode": {
    "name": "ipython",
    "version": 3
   },
   "file_extension": ".py",
   "mimetype": "text/x-python",
   "name": "python",
   "nbconvert_exporter": "python",
   "pygments_lexer": "ipython3",
   "version": "3.11.1"
  },
  "rise": {
   "center": false,
   "controlsTutorial": false,
   "enable_chalkboard": true,
   "help": false,
   "slideNumber": false,
   "theme": "black",
   "transition": "none"
  }
 },
 "nbformat": 4,
 "nbformat_minor": 2
}
