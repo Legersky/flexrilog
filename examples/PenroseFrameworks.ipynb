{
 "cells": [
  {
   "cell_type": "markdown",
   "metadata": {},
   "source": [
    "# Flex of Penrose framework"
   ]
  },
  {
   "cell_type": "code",
   "execution_count": null,
   "metadata": {},
   "outputs": [],
   "source": [
    "from flexrilog import Pframework, CnSymmetricFlexRiGraphCartesianNACs"
   ]
  },
  {
   "cell_type": "markdown",
   "metadata": {},
   "source": [
    "First, we create a piece of Penrose tiling."
   ]
  },
  {
   "cell_type": "code",
   "execution_count": null,
   "metadata": {
    "scrolled": false
   },
   "outputs": [],
   "source": [
    "P = Pframework([[0,4]], placement={0: (0, 0), 4: (0,-1)})\n",
    "P.add_parallelogram(0,4,1,198, new_vertices=[2,3])\n",
    "P.add_parallelogram(0,4,1,-18, new_vertices=[6,5])\n",
    "P.add_parallelogram(0,6,1,-18+72, new_vertices=[8,7])\n",
    "P.add_parallelogram(0,8,1,-18+2*72, new_vertices=[10,9])\n",
    "P.close_parallelogram(2,0,10,new_vertex=1)\n",
    "for i in range(1,10,2):\n",
    "    P.close_parallelogram(i,i+1,(i+2) % 10)\n",
    "for i,j,k in zip(range(1,10,2),\n",
    "                 [15,11,12,13,14],\n",
    "                 range(0,5)):\n",
    "    P.add_parallelogram(i,j,1,180+72*k-18)\n",
    "for i,j,k in zip(range(11,16), range(1,10,2), range(16,25,2)):\n",
    "    P.close_parallelogram(i,j,k)\n",
    "for i,j,k in zip([19,21,23,25,17], range(11,16), range(26,31)):\n",
    "    P.close_parallelogram(i,j,k)\n",
    "for i,j,k in zip([31, 18, 32, 20, 33, 22, 34, 24, 35, 16],\n",
    "                 [19, 27, 21, 28, 23, 29, 25, 30, 17, 26],\n",
    "                 [18, 32, 20, 33, 22, 34, 24, 35, 16, 31]):\n",
    "    P.close_parallelogram(i,j,k)\n",
    "for i,j,k in zip([16, 18, 20, 22, 24],\n",
    "                 [45, 37, 39, 41, 43],\n",
    "                 [3*72, 4*72, 5*72, 1*72, 2*72]):\n",
    "    P.add_parallelogram(i,j,1,k-18)  \n",
    "for i,j,k in zip([47, 49, 51, 53, 55],\n",
    "                 [45, 37, 39, 41, 43],\n",
    "                 [31, 32, 33, 34, 35]):\n",
    "    P.close_parallelogram(i,j,k) \n",
    "for i,j,k in zip([36, 38, 40, 42, 44],\n",
    "                 [31, 32, 33, 34, 35],\n",
    "                 range(56,61)):\n",
    "    P.close_parallelogram(i,j,k) \n",
    "for i,j,k in zip([18, 20, 22, 24, 16],\n",
    "                 [36, 38, 40, 42, 44],\n",
    "                 range(61,66)):\n",
    "    P.close_parallelogram(i,j,k) \n",
    "for i,j,k in zip(range(66,71),\n",
    "                 [18, 20, 22, 24, 16],\n",
    "                 [48, 50, 52, 54, 46]):\n",
    "    P.close_parallelogram(i,j,k) \n",
    "for i,j,k in zip(range(61,66),range(66,71),range(71,76)):\n",
    "    P.close_parallelogram(i,j,k) \n",
    "for i,j,k in zip([49, 51, 53, 55, 47],\n",
    "                 [48, 50, 52, 54, 46],\n",
    "                 range(71,76)):\n",
    "    P.close_parallelogram(i,j,k) \n",
    "for i,j,k in zip(range(71, 76), range(81, 86), range(1,6)):\n",
    "    P.add_parallelogram(i,j,1,180+72*k-18)  \n",
    "for i,j,k in zip(range(87, 97,2),\n",
    "                 range(81, 86),\n",
    "                 [49, 51, 53, 55, 47]):\n",
    "    P.close_parallelogram(i,j,k) \n",
    "for i,j,k in zip(range(96, 101),\n",
    "                 [49, 51, 53, 55, 47],\n",
    "                 [57, 58, 59, 60, 56]):\n",
    "    P.close_parallelogram(i,j,k) \n",
    "for i,j,k in zip(range(86,101,2),\n",
    "                 range(71, 76),\n",
    "                 range(76,81)):\n",
    "    P.close_parallelogram(i,j,k) \n",
    "for i,j,k in zip(range(61,66),\n",
    "                 range(76,81),\n",
    "                 range(106, 111)):\n",
    "    P.close_parallelogram(i,j,k) \n",
    "for i,j,k in zip(range(56,61),\n",
    "                 range(61,66),\n",
    "                 range(111,116)):\n",
    "    P.close_parallelogram(i,j,k) \n",
    "for i,j,k in zip(range(87,96,2),\n",
    "                 range(86,95,2),\n",
    "                 range(106,111)):\n",
    "    P.close_parallelogram(i,j,k) \n",
    "    \n",
    "filling = point2d([])\n",
    "for a,b,c,d in P.four_cycles():\n",
    "    if abs(RR((vector(P._pos[a])-vector(P._pos[b]))*(vector(P._pos[c])-vector(P._pos[b])))) < 0.4:\n",
    "        filling += polygon([P._pos[v] for v in [a,b,c,d]], color='lightblue', axes=False)\n",
    "\n",
    "P.plot(vertex_labels=False,vertex_size=20) + filling"
   ]
  },
  {
   "cell_type": "markdown",
   "metadata": {},
   "source": [
    "We compute the 5-fold symmetry of the graph."
   ]
  },
  {
   "cell_type": "code",
   "execution_count": null,
   "metadata": {},
   "outputs": [],
   "source": [
    "sym = CnSymmetricFlexRiGraphCartesianNACs.Cn_symmetries_gens(P,5)"
   ]
  },
  {
   "cell_type": "markdown",
   "metadata": {},
   "source": [
    "We construct the same graph as an instance of $\\mathcal{C}_5$-symmetric graph where only cartesian NAC-colorings are computed."
   ]
  },
  {
   "cell_type": "code",
   "execution_count": null,
   "metadata": {},
   "outputs": [],
   "source": [
    "PenroseGraph = CnSymmetricFlexRiGraphCartesianNACs(P, sym)"
   ]
  },
  {
   "cell_type": "markdown",
   "metadata": {},
   "source": [
    "The $\\mathcal{C}_5$-symmetric cartesian NAC-colorings are the following."
   ]
  },
  {
   "cell_type": "code",
   "execution_count": null,
   "metadata": {
    "scrolled": false
   },
   "outputs": [],
   "source": [
    "show(graphics_array([nac.plot(vertex_labels=False,vertex_size=20)\n",
    "                     for nac in PenroseGraph.NAC_colorings()[0:]],2),figsize=10)"
   ]
  },
  {
   "cell_type": "markdown",
   "metadata": {},
   "source": [
    "We pick one of them."
   ]
  },
  {
   "cell_type": "code",
   "execution_count": null,
   "metadata": {},
   "outputs": [],
   "source": [
    "NAC = PenroseGraph.NAC_colorings()[-2]\n",
    "NAC.plot(vertex_labels=False,vertex_size=20)"
   ]
  },
  {
   "cell_type": "markdown",
   "metadata": {},
   "source": [
    "We consider the graph with its layout as a P-framework."
   ]
  },
  {
   "cell_type": "code",
   "execution_count": null,
   "metadata": {},
   "outputs": [],
   "source": [
    "PenroseFramework = Pframework(PenroseGraph, PenroseGraph._pos)\n",
    "PenroseFramework.plot(vertex_labels=False, vertex_size=20)"
   ]
  },
  {
   "cell_type": "markdown",
   "metadata": {},
   "source": [
    "We construct a flex using the construction for P-frameworks.\n",
    "Up to translation, it is automatically $\\mathcal{C}_5$-symmetric\n",
    "since the NAC-coloring and realization are $\\mathcal{C}_5$-symmetric."
   ]
  },
  {
   "cell_type": "code",
   "execution_count": null,
   "metadata": {},
   "outputs": [],
   "source": [
    "M = PenroseFramework.flex_from_cartesian_NAC(NAC)"
   ]
  },
  {
   "cell_type": "code",
   "execution_count": null,
   "metadata": {},
   "outputs": [],
   "source": [
    "M.translate_vertex_to_origin(0)"
   ]
  },
  {
   "cell_type": "code",
   "execution_count": null,
   "metadata": {},
   "outputs": [],
   "source": [
    "M.animation_SVG(edge_partition='NAC',vertex_labels=False, fileName='flexible_penrose')"
   ]
  },
  {
   "cell_type": "markdown",
   "metadata": {},
   "source": [
    "We can display a few steps from the animation with filled *thin* and *fat* rhombi that preserve their shapes along the flex."
   ]
  },
  {
   "cell_type": "code",
   "execution_count": null,
   "metadata": {},
   "outputs": [],
   "source": [
    "steps = []\n",
    "thin  = []\n",
    "fat = []\n",
    "deformed = []\n",
    "for a,b,c,d in P.four_cycles():\n",
    "    if NAC.color(a,b) != NAC.color(c,b):\n",
    "        deformed.append([a,b,c,d])\n",
    "    else:\n",
    "        if abs(RR((vector(P._pos[a])-vector(P._pos[b]))*(vector(P._pos[c])-vector(P._pos[b])))) > 0.4:\n",
    "            thin.append([a,b,c,d])\n",
    "        else:\n",
    "            fat.append([a,b,c,d])\n",
    "lowPrecField = RealField(20)\n",
    "for i in range(6):\n",
    "    t = 0.25*i\n",
    "    PenroseGraph.set_pos(M.realization(t))\n",
    "    steps.append(PenroseGraph.plot(vertex_labels=False,vertex_size=10)\n",
    "                 +sum([polygon([PenroseGraph._pos[v] for v in c], color='gold', axes=False)\n",
    "                           for c in thin])\n",
    "                 +sum([polygon([PenroseGraph._pos[v] for v in c], color='lightgreen', axes=False)\n",
    "                           for c in fat]))\n",
    "show(graphics_array(steps,2),figsize=10)"
   ]
  }
 ],
 "metadata": {
  "kernelspec": {
   "display_name": "SageMath 9.0",
   "language": "sage",
   "name": "sagemath"
  },
  "language_info": {
   "codemirror_mode": {
    "name": "ipython",
    "version": 3
   },
   "file_extension": ".py",
   "mimetype": "text/x-python",
   "name": "python",
   "nbconvert_exporter": "python",
   "pygments_lexer": "ipython3",
   "version": "3.7.3"
  }
 },
 "nbformat": 4,
 "nbformat_minor": 2
}
