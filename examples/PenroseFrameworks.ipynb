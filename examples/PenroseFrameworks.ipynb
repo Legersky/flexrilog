{
 "cells": [
  {
   "cell_type": "code",
   "execution_count": null,
   "metadata": {},
   "outputs": [],
   "source": [
    "from flexrilog import BracedPframework, CnSymmetricFlexRiGraph, GraphMotion"
   ]
  },
  {
   "cell_type": "code",
   "execution_count": null,
   "metadata": {},
   "outputs": [],
   "source": [
    "P = BracedPframework([[0,2*i] for i in range(1,6)] + [[i,i+1] for i in range(1,10)] + [[1,10]], placement={0: (0, 0),\n",
    " 6 : (1, 0),\n",
    " 8 : (1/4*sqrt(5) - 1/4, 1/4*sqrt(2*sqrt(5) + 10)),\n",
    " 7 : (1/4*sqrt(5) + 3/4, 1/4*sqrt(2*sqrt(5) + 10)),\n",
    " 10: (-1/4*sqrt(5) - 1/4, 1/4*sqrt(-2*sqrt(5) + 10)),\n",
    " 9 : (-1/2, 1/4*sqrt(2*sqrt(5) + 10) + 1/4*sqrt(-2*sqrt(5) + 10)),\n",
    " 2 : (-1/4*sqrt(5) - 1/4, -1/4*sqrt(-2*sqrt(5) + 10)),\n",
    " 1 : (-1/2*sqrt(5) - 1/2, 0),\n",
    " 4 : (1/4*sqrt(5) - 1/4, -1/4*sqrt(2*sqrt(5) + 10)),\n",
    " 3 : (-1/2, -1/4*sqrt(2*sqrt(5) + 10) - 1/4*sqrt(-2*sqrt(5) + 10)),\n",
    " 5 : (1/4*sqrt(5) + 3/4, -1/4*sqrt(2*sqrt(5) + 10))})\n",
    "\n",
    "for i in range(1,10,2):\n",
    "    P.close_parallelogram(i,i+1,(i+2) % 10)\n",
    "\n",
    "P.add_parallelogram(1,15,1,180)\n",
    "P.add_parallelogram(3,11,1,180+1*72)\n",
    "P.add_parallelogram(5,12,1,180+2*72)\n",
    "P.add_parallelogram(7,13,1,180+3*72)\n",
    "P.add_parallelogram(9,14,1,180+4*72)\n",
    "\n",
    "P.close_parallelogram(11,1,16)\n",
    "P.close_parallelogram(12,3,18)\n",
    "P.close_parallelogram(13,5,20)\n",
    "P.close_parallelogram(14,7,22)\n",
    "P.close_parallelogram(15,9,24)\n",
    "\n",
    "P.close_parallelogram(19,11,26)\n",
    "P.close_parallelogram(21,12,27)\n",
    "P.close_parallelogram(23,13,28)\n",
    "P.close_parallelogram(25,14,29)\n",
    "P.close_parallelogram(17,15,30)\n",
    "\n",
    "for i,j,k in zip([31, 18, 32, 20, 33, 22, 34, 24, 35, 16],\n",
    "                 [19, 27, 21, 28, 23, 29, 25, 30, 17, 26],\n",
    "                 [18, 32, 20, 33, 22, 34, 24, 35, 16, 31]):\n",
    "    P.close_parallelogram(i,j,k)\n",
    "\n",
    "for i,j,k in zip([16, 18, 20, 22, 24],\n",
    "                 [45, 37, 39, 41, 43],\n",
    "                 [3*72, 4*72, 5*72, 1*72, 2*72]):\n",
    "    P.add_parallelogram(i,j,1,k)  \n",
    "\n",
    "for i,j,k in zip([47, 49, 51, 53, 55],\n",
    "                 [45, 37, 39, 41, 43],\n",
    "                 [31, 32, 33, 34, 35]):\n",
    "    P.close_parallelogram(i,j,k) \n",
    "    \n",
    "for i,j,k in zip([36, 38, 40, 42, 44],\n",
    "                 [31, 32, 33, 34, 35],\n",
    "                 range(56,61)\n",
    "                 ):\n",
    "    P.close_parallelogram(i,j,k) \n",
    "    \n",
    "for i,j,k in zip([18, 20, 22, 24, 16],\n",
    "                 [36, 38, 40, 42, 44],\n",
    "                 range(61,66)\n",
    "                 ):\n",
    "    P.close_parallelogram(i,j,k) \n",
    "    \n",
    "for i,j,k in zip(range(66,71),\n",
    "                 [18, 20, 22, 24, 16],\n",
    "                 [48, 50, 52, 54, 46]\n",
    "                 ):\n",
    "    P.close_parallelogram(i,j,k) \n",
    "    \n",
    "for i,j,k in zip(range(61,66),range(66,71),range(71,76)):\n",
    "    P.close_parallelogram(i,j,k) \n",
    "for i,j,k in zip([49, 51, 53, 55, 47],[48, 50, 52, 54, 46],range(71,76)):\n",
    "    P.close_parallelogram(i,j,k) \n",
    "\n",
    "for i,j,k in zip(range(71, 76),\n",
    "                 range(81, 86),\n",
    "                 range(1,6)):\n",
    "    P.add_parallelogram(i,j,1,180+72*k)  \n",
    "    \n",
    "for i,j,k in zip(range(87, 97,2),range(81, 86),[49, 51, 53, 55, 47]):\n",
    "    P.close_parallelogram(i,j,k) \n",
    "    \n",
    "for i,j,k in zip(range(96, 101),[49, 51, 53, 55, 47],[57, 58, 59, 60, 56]):\n",
    "    P.close_parallelogram(i,j,k) \n",
    "    \n",
    "for i,j,k in zip(range(86,101,2),range(71, 76),range(76,81)):\n",
    "    P.close_parallelogram(i,j,k) \n",
    "    \n",
    "for i,j,k in zip(range(61,66),range(76,81),range(106, 111)):\n",
    "    P.close_parallelogram(i,j,k) \n",
    "    \n",
    "for i,j,k in zip(range(56,61),range(61,66),range(111,116)):\n",
    "    P.close_parallelogram(i,j,k) \n",
    "    \n",
    "for i,j,k in zip(range(87,96,2),range(86,95,2),range(106,111)):\n",
    "    P.close_parallelogram(i,j,k) \n",
    "    \n",
    "filling = point2d([])\n",
    "for a,b,c,d in P.four_cycles():\n",
    "    if abs(RR((vector(P._pos[a])-vector(P._pos[b]))*(vector(P._pos[c])-vector(P._pos[b])))) < 0.4:\n",
    "        filling += polygon([P._pos[v] for v in [a,b,c,d]], color='lightblue', axes=False)\n",
    "\n",
    "P.plot(vertex_labels=False,vertex_size=20) + filling"
   ]
  },
  {
   "cell_type": "code",
   "execution_count": null,
   "metadata": {},
   "outputs": [],
   "source": [
    "sym = CnSymmetricFlexRiGraph.Cn_symmetries_gens(P,5)"
   ]
  },
  {
   "cell_type": "code",
   "execution_count": null,
   "metadata": {},
   "outputs": [],
   "source": [
    "Psym = CnSymmetricFlexRiGraph(P,sym)"
   ]
  },
  {
   "cell_type": "code",
   "execution_count": null,
   "metadata": {},
   "outputs": [],
   "source": [
    "from flexrilog import CnSymmetricFlexRiGraph\n",
    "class CnSymmetricFlexRiGraphCartesianNACs(CnSymmetricFlexRiGraph):\n",
    "    def _edges_with_same_color(self):\n",
    "        r\"\"\"\n",
    "        Return list of lists of edges that are necessarily colored the same in a Cn-symmetric NAC-coloring.\n",
    "        \"\"\"\n",
    "        V = [tuple(sorted(e)) for e in self.edges(labels=False)]\n",
    "        E = []\n",
    "        for tr_comp in self.triangle_connected_components():\n",
    "            E += [[tuple(sorted(e)), tuple(sorted(f))] for e, f in zip(tr_comp[:-1], tr_comp[1:])]\n",
    "        for orbit in self.edge_orbits():\n",
    "            E += [[tuple(sorted(e)), tuple(sorted(f))] for e, f in zip(orbit[:-1], orbit[1:])]\n",
    "            \n",
    "        for a,b,c,d in self.four_cycles():\n",
    "            E += [[tuple(sorted([a,b])), tuple(sorted([c,d]))], [tuple(sorted([a,d])), tuple(sorted([b,c]))]]\n",
    "            \n",
    "        return [[[u,v] for u, v in comp] for comp in Graph([V, E], format='vertices_and_edges').connected_components()]\n",
    "    "
   ]
  },
  {
   "cell_type": "code",
   "execution_count": null,
   "metadata": {},
   "outputs": [],
   "source": [
    "PsymCart = CnSymmetricFlexRiGraphCartesianNACs(P, sym)"
   ]
  },
  {
   "cell_type": "code",
   "execution_count": null,
   "metadata": {
    "scrolled": false
   },
   "outputs": [],
   "source": [
    "show(graphics_array([nac.plot(vertex_labels=False,vertex_size=20)\n",
    "                     for nac in PsymCart.NAC_colorings()[0:]],2),figsize=10)"
   ]
  },
  {
   "cell_type": "code",
   "execution_count": null,
   "metadata": {},
   "outputs": [],
   "source": [
    "NAC = PsymCart.NAC_colorings()[-2]"
   ]
  },
  {
   "cell_type": "code",
   "execution_count": null,
   "metadata": {
    "scrolled": false
   },
   "outputs": [],
   "source": [
    "NAC.plot(vertex_labels=False,vertex_size=20)"
   ]
  },
  {
   "cell_type": "code",
   "execution_count": null,
   "metadata": {},
   "outputs": [],
   "source": [
    "Pbraced = BracedPframework(Psym, Psym._pos)"
   ]
  },
  {
   "cell_type": "code",
   "execution_count": null,
   "metadata": {},
   "outputs": [],
   "source": [
    "Pbraced.plot()"
   ]
  },
  {
   "cell_type": "code",
   "execution_count": null,
   "metadata": {},
   "outputs": [],
   "source": [
    "M = Pbraced.flex_from_cartesian_NAC(NAC)\n",
    "M.fix_edge([0,6])"
   ]
  },
  {
   "cell_type": "code",
   "execution_count": null,
   "metadata": {},
   "outputs": [],
   "source": [
    "steps = []\n",
    "thin  = []\n",
    "fat = []\n",
    "deformed = []\n",
    "for a,b,c,d in P.four_cycles():\n",
    "    if NAC.color(a,b) != NAC.color(c,b):\n",
    "        deformed.append([a,b,c,d])\n",
    "    else:\n",
    "        if abs(RR((vector(P._pos[a])-vector(P._pos[b]))*(vector(P._pos[c])-vector(P._pos[b])))) > 0.4:\n",
    "            thin.append([a,b,c,d])\n",
    "        else:\n",
    "            fat.append([a,b,c,d])\n",
    "lowPrecField = RealField(20)\n",
    "for t in [0, 0.25, 0.5, 0.75, 1, 1.25]:\n",
    "    PsymCart.set_pos(M.realization(t))\n",
    "    steps.append(PsymCart.plot(vertex_labels=False,vertex_size=20)\n",
    "                 +sum([polygon([PsymCart._pos[v] for v in c], color='lightblue', axes=False)\n",
    "                           for c in thin])\n",
    "                 +sum([polygon([PsymCart._pos[v] for v in c], color='yellow', axes=False)\n",
    "                           for c in fat]))\n",
    "#     for c in fat:\n",
    "#         print('\\\\fill[fat] ' + ' -- '.join([str(tuple([lowPrecField(x) for x in PsymCart._pos[v]])) for v in c]) +' -- cycle;')\n",
    "\n",
    "#     for c in thin:\n",
    "#         print('\\\\fill[thin] ' + ' -- '.join([str(tuple([lowPrecField(x) for x in PsymCart._pos[v]])) for v in c]) +' -- cycle;')\n",
    "#     NAC.print_tikz(vertex_labels=False, vertex_style='fvertex')\n",
    "show(graphics_array(steps,2),figsize=10)"
   ]
  },
  {
   "cell_type": "code",
   "execution_count": null,
   "metadata": {},
   "outputs": [],
   "source": [
    "M.animation_SVG(edge_partition='NAC',vertex_labels=False, fileName='flexible_penrose')"
   ]
  },
  {
   "cell_type": "code",
   "execution_count": null,
   "metadata": {},
   "outputs": [],
   "source": []
  },
  {
   "cell_type": "code",
   "execution_count": null,
   "metadata": {},
   "outputs": [],
   "source": []
  }
 ],
 "metadata": {
  "kernelspec": {
   "display_name": "SageMath 9.0",
   "language": "sage",
   "name": "sagemath"
  },
  "language_info": {
   "codemirror_mode": {
    "name": "ipython",
    "version": 3
   },
   "file_extension": ".py",
   "mimetype": "text/x-python",
   "name": "python",
   "nbconvert_exporter": "python",
   "pygments_lexer": "ipython3",
   "version": "3.7.3"
  }
 },
 "nbformat": 4,
 "nbformat_minor": 2
}
