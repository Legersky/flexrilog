{
 "cells": [
  {
   "cell_type": "code",
   "execution_count": null,
   "metadata": {},
   "outputs": [],
   "source": [
    "import sys\n",
    "sys.path.insert(0, \"..\")\n",
    "from flexrilog import CnSymmetricFlexRiGraph, FlexRiGraph, GraphMotion, CnSymmetricNACcoloring"
   ]
  },
  {
   "cell_type": "markdown",
   "metadata": {},
   "source": [
    "# A 5-fold rotationally symmetric graph"
   ]
  },
  {
   "cell_type": "markdown",
   "metadata": {},
   "source": [
    "We consider the graph given by the following list of edges:"
   ]
  },
  {
   "cell_type": "code",
   "execution_count": null,
   "metadata": {},
   "outputs": [],
   "source": [
    "edges = [(0, 1), (0, 2), (0, 4), (0, 14), (1, 2), (1, 11), (1, 12), (1, 15), \n",
    "         (1, 18), (1, 23), (1, 24), (2, 3), (2, 7), (3, 4), (3, 5), (3, 7), \n",
    "         (4, 5), (4, 14), (4, 15), (4, 16), (4, 17), (4, 20), (5, 6), (5, 10),\n",
    "         (6, 7), (6, 8), (6, 10), (7, 8), (7, 17), (7, 18), (7, 19), (7, 22),\n",
    "         (8, 9), (8, 13), (9, 10), (9, 11), (9, 13), (10, 11), (10, 19),\n",
    "         (10, 20), (10, 21), (10, 24), (11, 12), (12, 13), (12, 14), (13, 14),\n",
    "         (13, 16), (13, 21), (13, 22), (13, 23), (15, 16), (15, 18), (16, 23),\n",
    "         (17, 18), (17, 20), (19, 20), (19, 22), (21, 22), (21, 24), (23, 24)]\n",
    "G = Graph(edges);\n",
    "G.plot()"
   ]
  },
  {
   "cell_type": "markdown",
   "metadata": {},
   "source": [
    "The graph `G` is $C_n$-symmetric for $n=5$:"
   ]
  },
  {
   "cell_type": "code",
   "execution_count": null,
   "metadata": {},
   "outputs": [],
   "source": [
    "omega = [[(0, 3, 6, 9, 12),\n",
    "          (1, 4, 7, 10, 13),\n",
    "          (2, 5, 8, 11, 14),\n",
    "          (15, 17, 19, 21, 23),\n",
    "          (16, 18, 20, 22, 24)]]\n",
    "G = CnSymmetricFlexRiGraph(G,\n",
    "                           PermutationGroup(omega),\n",
    "                           pos={\n",
    "                               0:[1,0],\n",
    "                               1:[2.5,0],\n",
    "                               2:[4,1.5],\n",
    "                               15:[4,5],\n",
    "                               16:[6,2]\n",
    "                           }\n",
    "                          )\n",
    "G.plot()"
   ]
  },
  {
   "cell_type": "markdown",
   "metadata": {},
   "source": [
    "The graph `G` has three $C_5$-symmetric NAC-colorings:"
   ]
  },
  {
   "cell_type": "code",
   "execution_count": null,
   "metadata": {},
   "outputs": [],
   "source": [
    "G.show_all_NAC_colorings()"
   ]
  },
  {
   "cell_type": "markdown",
   "metadata": {},
   "source": [
    "We consider the last NAC-coloring:"
   ]
  },
  {
   "cell_type": "code",
   "execution_count": null,
   "metadata": {},
   "outputs": [],
   "source": [
    "delta = G.NAC_colorings()[-1]\n",
    "delta.plot()"
   ]
  },
  {
   "cell_type": "markdown",
   "metadata": {},
   "source": [
    "The construction in Theorem 2 yields a $C_5$-symmetric motion:"
   ]
  },
  {
   "cell_type": "code",
   "execution_count": null,
   "metadata": {},
   "outputs": [],
   "source": [
    "M = GraphMotion.CnSymmetricGridConstruction(G, delta)\n",
    "M.animation_SVG(edge_partition='NAC', fileName='AnimationPentaRotation.svg', totalTime=20, vertex_labels=False)"
   ]
  },
  {
   "cell_type": "markdown",
   "metadata": {},
   "source": [
    "One can play with the choice of $a_i$'s and $b_j$'. There is only one orbit of red components and one orbit of blue components (and no partially invariant ones), so $a_i$'s and $b_j$' are determined each by one point:"
   ]
  },
  {
   "cell_type": "code",
   "execution_count": null,
   "metadata": {},
   "outputs": [],
   "source": [
    "M = GraphMotion.CnSymmetricGridConstruction(G,\n",
    "                                            delta,\n",
    "                                            a_base=[[2,2]],\n",
    "                                            b_base=[[1,0]]\n",
    "                                           )\n",
    "M.animation_SVG(edge_partition='NAC', fileName='AnimationPentaRotation_different_a_b.svg', totalTime=20, vertex_labels=False)"
   ]
  },
  {
   "cell_type": "markdown",
   "metadata": {},
   "source": [
    "# A 3-fold rotationally symmetric graph"
   ]
  },
  {
   "cell_type": "markdown",
   "metadata": {},
   "source": [
    "TODO"
   ]
  },
  {
   "cell_type": "code",
   "execution_count": null,
   "metadata": {},
   "outputs": [],
   "source": [
    "FlexRiGraph(1655216122475520064655982620250004274942562383074557629591543121928789895377504251171328041).plot()"
   ]
  },
  {
   "cell_type": "code",
   "execution_count": null,
   "metadata": {},
   "outputs": [],
   "source": []
  },
  {
   "cell_type": "code",
   "execution_count": null,
   "metadata": {},
   "outputs": [],
   "source": []
  },
  {
   "cell_type": "code",
   "execution_count": null,
   "metadata": {},
   "outputs": [],
   "source": [
    "G = CnSymmetricFlexRiGraph(4177039139745750794223827682567395229009001633368057846245139496192878855481551637287702220420991364594783184387952963276383529375961808281326448268040458489657319374789353018592727705717327,\n",
    "                          PermutationGroup([[(0, 6, 9),\n",
    " (1, 14, 3),\n",
    " (2, 15, 10),\n",
    " (4, 5, 18),\n",
    " (7, 23, 12),\n",
    " (8, 24, 20),\n",
    " (13, 27, 11),\n",
    " (16, 21, 29),\n",
    " (19, 22, 33),\n",
    " (17, 31, 30),\n",
    " (25, 32, 34),\n",
    " (26, 35, 28)]]))"
   ]
  },
  {
   "cell_type": "code",
   "execution_count": null,
   "metadata": {},
   "outputs": [],
   "source": [
    "G.plot()"
   ]
  },
  {
   "cell_type": "code",
   "execution_count": null,
   "metadata": {},
   "outputs": [],
   "source": [
    "G.NAC_colorings_isomorphism_classes()"
   ]
  },
  {
   "cell_type": "code",
   "execution_count": null,
   "metadata": {},
   "outputs": [],
   "source": [
    "NACs = G.NAC_colorings_isomorphism_classes()"
   ]
  },
  {
   "cell_type": "code",
   "execution_count": null,
   "metadata": {},
   "outputs": [],
   "source": [
    "delta1 = NACs[4][0]\n",
    "GraphMotion.CnSymmetricGridConstruction(G, delta1, a_base=[[0,1], [1,3], [0,3], [0,5]],\n",
    "                                        b_base=[[2,0], [3,1], [1,0], [4,0]]\n",
    "                                       ).animation_SVG(edge_partition='NAC',\n",
    "                                                       fileName='AnimationTruncatedOctahedralLineGraph_FlexRiLoG',\n",
    "                                                      vertex_labels=False)"
   ]
  },
  {
   "cell_type": "code",
   "execution_count": null,
   "metadata": {},
   "outputs": [],
   "source": [
    "delta1._"
   ]
  },
  {
   "cell_type": "code",
   "execution_count": null,
   "metadata": {},
   "outputs": [],
   "source": [
    "NACs[6][0].grid_coordinates_are_injective()"
   ]
  },
  {
   "cell_type": "code",
   "execution_count": null,
   "metadata": {
    "scrolled": true
   },
   "outputs": [],
   "source": [
    "for i, cls in enumerate(NACs):\n",
    "    print(i)\n",
    "    show(cls[0].plot())"
   ]
  },
  {
   "cell_type": "code",
   "execution_count": null,
   "metadata": {},
   "outputs": [],
   "source": [
    "sum([0,0,1,1,0,1,1,1,1,1,0,0,0,0,1,0,0,0,0,1,0,0,0,0,1,1,1,1,0,1,1,1,1,1,0,1,1,1,0,1,1,1,0,0,0,0,0,0,1,0,0,0,0,1,0,0,1,0,0,1,1,1,1,0,1,1,1,1,1,0,0,0])"
   ]
  },
  {
   "cell_type": "code",
   "execution_count": null,
   "metadata": {},
   "outputs": [],
   "source": []
  },
  {
   "cell_type": "code",
   "execution_count": null,
   "metadata": {},
   "outputs": [],
   "source": []
  },
  {
   "cell_type": "code",
   "execution_count": null,
   "metadata": {},
   "outputs": [],
   "source": [
    "G.plot()"
   ]
  },
  {
   "cell_type": "code",
   "execution_count": null,
   "metadata": {},
   "outputs": [],
   "source": []
  },
  {
   "cell_type": "code",
   "execution_count": null,
   "metadata": {},
   "outputs": [],
   "source": []
  },
  {
   "cell_type": "code",
   "execution_count": null,
   "metadata": {},
   "outputs": [],
   "source": []
  },
  {
   "cell_type": "code",
   "execution_count": null,
   "metadata": {},
   "outputs": [],
   "source": [
    "from flexrilog import GraphGenerator\n",
    "G = GraphGenerator.ThreePrismGraph()\n",
    "# G.has_NAC_coloring()"
   ]
  },
  {
   "cell_type": "code",
   "execution_count": null,
   "metadata": {},
   "outputs": [],
   "source": [
    "G._NACs_computed"
   ]
  },
  {
   "cell_type": "code",
   "execution_count": null,
   "metadata": {},
   "outputs": [],
   "source": [
    "G.has_NAC_coloring()"
   ]
  },
  {
   "cell_type": "code",
   "execution_count": null,
   "metadata": {},
   "outputs": [],
   "source": []
  }
 ],
 "metadata": {
  "kernelspec": {
   "display_name": "SageMath 7.5.1",
   "language": "",
   "name": "sagemath"
  },
  "language_info": {
   "codemirror_mode": {
    "name": "ipython",
    "version": 2
   },
   "file_extension": ".py",
   "mimetype": "text/x-python",
   "name": "python",
   "nbconvert_exporter": "python",
   "pygments_lexer": "ipython2",
   "version": "2.7.13"
  }
 },
 "nbformat": 4,
 "nbformat_minor": 2
}
